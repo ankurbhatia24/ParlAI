{
 "cells": [
  {
   "cell_type": "code",
   "execution_count": null,
   "id": "65f68864",
   "metadata": {},
   "outputs": [],
   "source": [
    "## ENVIRONMENT IS source activate audio_chat_bot\n"
   ]
  },
  {
   "cell_type": "code",
   "execution_count": null,
   "id": "fc820e29",
   "metadata": {},
   "outputs": [],
   "source": [
    "## ENVIRONMENT IS source activate audio_chat_bot\n"
   ]
  },
  {
   "cell_type": "code",
   "execution_count": null,
   "id": "4fd2ed4d",
   "metadata": {},
   "outputs": [],
   "source": [
    "## ENVIRONMENT IS source activate audio_chat_bot\n"
   ]
  },
  {
   "cell_type": "code",
   "execution_count": 2,
   "id": "6ce01814",
   "metadata": {},
   "outputs": [
    {
     "name": "stdout",
     "output_type": "stream",
     "text": [
      "/datadrive/ankur\n"
     ]
    }
   ],
   "source": [
    "import os\n",
    "import sys\n",
    "print(os.getcwd())\n",
    "sys.path.append(os.path.join(os.getcwd(), \"ParlAI\"))"
   ]
  },
  {
   "cell_type": "code",
   "execution_count": 3,
   "id": "e4906910",
   "metadata": {},
   "outputs": [],
   "source": [
    "# sys.path.remove('/datadrive/ankur/ParlAI')"
   ]
  },
  {
   "cell_type": "code",
   "execution_count": 4,
   "id": "ac6f1b43",
   "metadata": {},
   "outputs": [
    {
     "data": {
      "text/plain": [
       "['/datadrive/ankur',\n",
       " '/anaconda/envs/audio_chat_bot/lib/python3.9/site-packages/GitPython-3.1.20-py3.9.egg/git/ext/gitdb',\n",
       " '/anaconda/envs/audio_chat_bot/lib/python39.zip',\n",
       " '/anaconda/envs/audio_chat_bot/lib/python3.9',\n",
       " '/anaconda/envs/audio_chat_bot/lib/python3.9/lib-dynload',\n",
       " '',\n",
       " '/anaconda/envs/audio_chat_bot/lib/python3.9/site-packages',\n",
       " '/datadrive/ankur/ParlAI',\n",
       " '/anaconda/envs/audio_chat_bot/lib/python3.9/site-packages/jsonlines-2.0.0-py3.9.egg',\n",
       " '/anaconda/envs/audio_chat_bot/lib/python3.9/site-packages/websocket_server-0.5.1-py3.9.egg',\n",
       " '/anaconda/envs/audio_chat_bot/lib/python3.9/site-packages/websocket_client-1.1.0-py3.9.egg',\n",
       " '/anaconda/envs/audio_chat_bot/lib/python3.9/site-packages/urllib3-1.26.6-py3.9.egg',\n",
       " '/anaconda/envs/audio_chat_bot/lib/python3.9/site-packages/Unidecode-1.2.0-py3.9.egg',\n",
       " '/anaconda/envs/audio_chat_bot/lib/python3.9/site-packages/tqdm-4.42.1-py3.9.egg',\n",
       " '/anaconda/envs/audio_chat_bot/lib/python3.9/site-packages/tornado-6.1-py3.9-linux-x86_64.egg',\n",
       " '/anaconda/envs/audio_chat_bot/lib/python3.9/site-packages/torchtext-0.10.0-py3.9-linux-x86_64.egg',\n",
       " '/anaconda/envs/audio_chat_bot/lib/python3.9/site-packages/tokenizers-0.10.3-py3.9-linux-x86_64.egg',\n",
       " '/anaconda/envs/audio_chat_bot/lib/python3.9/site-packages/tensorboardX-2.4-py3.9.egg',\n",
       " '/anaconda/envs/audio_chat_bot/lib/python3.9/site-packages/tensorboard-2.5.0-py3.9.egg',\n",
       " '/anaconda/envs/audio_chat_bot/lib/python3.9/site-packages/subword_nmt-0.3.7-py3.9.egg',\n",
       " '/anaconda/envs/audio_chat_bot/lib/python3.9/site-packages/Sphinx-2.2.2-py3.9.egg',\n",
       " '/anaconda/envs/audio_chat_bot/lib/python3.9/site-packages/sphinx_autodoc_typehints-1.10.3-py3.9.egg',\n",
       " '/anaconda/envs/audio_chat_bot/lib/python3.9/site-packages/sphinx_rtd_theme-0.5.2-py3.9.egg',\n",
       " '/anaconda/envs/audio_chat_bot/lib/python3.9/site-packages/sh-1.14.2-py3.9.egg',\n",
       " '/anaconda/envs/audio_chat_bot/lib/python3.9/site-packages/scipy-1.7.0-py3.9-linux-x86_64.egg',\n",
       " '/anaconda/envs/audio_chat_bot/lib/python3.9/site-packages/scikit_learn-0.24.2-py3.9-linux-x86_64.egg',\n",
       " '/anaconda/envs/audio_chat_bot/lib/python3.9/site-packages/requests-2.26.0-py3.9.egg',\n",
       " '/anaconda/envs/audio_chat_bot/lib/python3.9/site-packages/requests_mock-1.9.3-py3.9.egg',\n",
       " '/anaconda/envs/audio_chat_bot/lib/python3.9/site-packages/attrs-20.2.0-py3.9.egg',\n",
       " '/anaconda/envs/audio_chat_bot/lib/python3.9/site-packages/myst_parser-0.12.10-py3.9.egg',\n",
       " '/anaconda/envs/audio_chat_bot/lib/python3.9/site-packages/regex-2021.7.6-py3.9-linux-x86_64.egg',\n",
       " '/anaconda/envs/audio_chat_bot/lib/python3.9/site-packages/pyzmq-22.1.0-py3.9-linux-x86_64.egg',\n",
       " '/anaconda/envs/audio_chat_bot/lib/python3.9/site-packages/py_rouge-1.1-py3.9.egg',\n",
       " '/anaconda/envs/audio_chat_bot/lib/python3.9/site-packages/py_gfm-1.0.2-py3.9.egg',\n",
       " '/anaconda/envs/audio_chat_bot/lib/python3.9/site-packages/Pillow-8.3.1-py3.9-linux-x86_64.egg',\n",
       " '/anaconda/envs/audio_chat_bot/lib/python3.9/site-packages/pexpect-4.8.0-py3.9.egg',\n",
       " '/anaconda/envs/audio_chat_bot/lib/python3.9/site-packages/pytest_regressions-2.2.0-py3.9.egg',\n",
       " '/anaconda/envs/audio_chat_bot/lib/python3.9/site-packages/pandas-1.3.1-py3.9-linux-x86_64.egg',\n",
       " '/anaconda/envs/audio_chat_bot/lib/python3.9/site-packages/omegaconf-2.0.6-py3.9.egg',\n",
       " '/anaconda/envs/audio_chat_bot/lib/python3.9/site-packages/nltk-3.6.2-py3.9.egg',\n",
       " '/anaconda/envs/audio_chat_bot/lib/python3.9/site-packages/joblib-1.0.1-py3.9.egg',\n",
       " '/anaconda/envs/audio_chat_bot/lib/python3.9/site-packages/torch-1.9.0-py3.9-linux-x86_64.egg',\n",
       " '/anaconda/envs/audio_chat_bot/lib/python3.9/site-packages/ipython-7.25.0-py3.9.egg',\n",
       " '/anaconda/envs/audio_chat_bot/lib/python3.9/site-packages/hydra_core-1.0.7-py3.9.egg',\n",
       " '/anaconda/envs/audio_chat_bot/lib/python3.9/site-packages/GitPython-3.1.20-py3.9.egg',\n",
       " '/anaconda/envs/audio_chat_bot/lib/python3.9/site-packages/gitdb2-4.0.2-py3.9.egg',\n",
       " '/anaconda/envs/audio_chat_bot/lib/python3.9/site-packages/iopath-0.1.9-py3.9.egg',\n",
       " '/anaconda/envs/audio_chat_bot/lib/python3.9/site-packages/flake8-3.9.2-py3.9.egg',\n",
       " '/anaconda/envs/audio_chat_bot/lib/python3.9/site-packages/flake8_bugbear-21.4.3-py3.9.egg',\n",
       " '/anaconda/envs/audio_chat_bot/lib/python3.9/site-packages/docformatter-1.4-py3.9.egg',\n",
       " '/anaconda/envs/audio_chat_bot/lib/python3.9/site-packages/fairscale-0.3.9-py3.9.egg',\n",
       " '/anaconda/envs/audio_chat_bot/lib/python3.9/site-packages/emoji-1.4.1-py3.9.egg',\n",
       " '/anaconda/envs/audio_chat_bot/lib/python3.9/site-packages/docutils-0.15.2-py3.9.egg',\n",
       " '/anaconda/envs/audio_chat_bot/lib/python3.9/site-packages/datasets-1.10.2-py3.9.egg',\n",
       " '/anaconda/envs/audio_chat_bot/lib/python3.9/site-packages/coloredlogs-15.0.1-py3.9.egg',\n",
       " '/anaconda/envs/audio_chat_bot/lib/python3.9/site-packages/botocore-1.21.8-py3.9.egg',\n",
       " '/anaconda/envs/audio_chat_bot/lib/python3.9/site-packages/boto3-1.18.8-py3.9.egg',\n",
       " '/anaconda/envs/audio_chat_bot/lib/python3.9/site-packages/protobuf-4.0.0rc2-py3.9.egg',\n",
       " '/anaconda/envs/audio_chat_bot/lib/python3.9/site-packages/wheel-0.36.2-py3.9.egg',\n",
       " '/anaconda/envs/audio_chat_bot/lib/python3.9/site-packages/Werkzeug-2.0.1-py3.9.egg',\n",
       " '/anaconda/envs/audio_chat_bot/lib/python3.9/site-packages/tensorboard_plugin_wit-1.8.0-py3.9.egg',\n",
       " '/anaconda/envs/audio_chat_bot/lib/python3.9/site-packages/tensorboard_data_server-0.6.1-py3.9.egg',\n",
       " '/anaconda/envs/audio_chat_bot/lib/python3.9/site-packages/Markdown-3.3.4-py3.9.egg',\n",
       " '/anaconda/envs/audio_chat_bot/lib/python3.9/site-packages/grpcio-1.39.0-py3.9-linux-x86_64.egg',\n",
       " '/anaconda/envs/audio_chat_bot/lib/python3.9/site-packages/google_auth-1.34.0-py3.9.egg',\n",
       " '/anaconda/envs/audio_chat_bot/lib/python3.9/site-packages/google_auth_oauthlib-0.4.4-py3.9.egg',\n",
       " '/anaconda/envs/audio_chat_bot/lib/python3.9/site-packages/absl_py-0.13.0-py3.9.egg',\n",
       " '/anaconda/envs/audio_chat_bot/lib/python3.9/site-packages/sphinxcontrib_serializinghtml-1.1.5-py3.9.egg',\n",
       " '/anaconda/envs/audio_chat_bot/lib/python3.9/site-packages/sphinxcontrib_qthelp-1.0.3-py3.9.egg',\n",
       " '/anaconda/envs/audio_chat_bot/lib/python3.9/site-packages/sphinxcontrib_jsmath-1.0.1-py3.9.egg',\n",
       " '/anaconda/envs/audio_chat_bot/lib/python3.9/site-packages/sphinxcontrib_htmlhelp-2.0.0-py3.9.egg',\n",
       " '/anaconda/envs/audio_chat_bot/lib/python3.9/site-packages/sphinxcontrib_devhelp-1.0.2-py3.9.egg',\n",
       " '/anaconda/envs/audio_chat_bot/lib/python3.9/site-packages/sphinxcontrib_applehelp-1.0.2-py3.9.egg',\n",
       " '/anaconda/envs/audio_chat_bot/lib/python3.9/site-packages/snowballstemmer-2.1.0-py3.9.egg',\n",
       " '/anaconda/envs/audio_chat_bot/lib/python3.9/site-packages/packaging-21.0-py3.9.egg',\n",
       " '/anaconda/envs/audio_chat_bot/lib/python3.9/site-packages/imagesize-1.2.0-py3.9.egg',\n",
       " '/anaconda/envs/audio_chat_bot/lib/python3.9/site-packages/Babel-2.9.1-py3.9.egg',\n",
       " '/anaconda/envs/audio_chat_bot/lib/python3.9/site-packages/alabaster-0.7.12-py3.9.egg',\n",
       " '/anaconda/envs/audio_chat_bot/lib/python3.9/site-packages/Pygments-2.9.0-py3.9.egg',\n",
       " '/anaconda/envs/audio_chat_bot/lib/python3.9/site-packages/Jinja2-3.0.1-py3.9.egg',\n",
       " '/anaconda/envs/audio_chat_bot/lib/python3.9/site-packages/threadpoolctl-2.2.0-py3.9.egg',\n",
       " '/anaconda/envs/audio_chat_bot/lib/python3.9/site-packages/idna-3.2-py3.9.egg',\n",
       " '/anaconda/envs/audio_chat_bot/lib/python3.9/site-packages/charset_normalizer-2.0.3-py3.9.egg',\n",
       " '/anaconda/envs/audio_chat_bot/lib/python3.9/site-packages/six-1.16.0-py3.9.egg',\n",
       " '/anaconda/envs/audio_chat_bot/lib/python3.9/site-packages/markdown_it_py-0.5.8-py3.9.egg',\n",
       " '/anaconda/envs/audio_chat_bot/lib/python3.9/site-packages/ptyprocess-0.7.0-py3.9.egg',\n",
       " '/anaconda/envs/audio_chat_bot/lib/python3.9/site-packages/toml-0.10.2-py3.9.egg',\n",
       " '/anaconda/envs/audio_chat_bot/lib/python3.9/site-packages/py-1.10.0-py3.9.egg',\n",
       " '/anaconda/envs/audio_chat_bot/lib/python3.9/site-packages/iniconfig-1.1.1-py3.9.egg',\n",
       " '/anaconda/envs/audio_chat_bot/lib/python3.9/site-packages/pytest_datadir-1.3.1-py3.9.egg',\n",
       " '/anaconda/envs/audio_chat_bot/lib/python3.9/site-packages/pytz-2021.1-py3.9.egg',\n",
       " '/anaconda/envs/audio_chat_bot/lib/python3.9/site-packages/python_dateutil-2.8.2-py3.9.egg',\n",
       " '/anaconda/envs/audio_chat_bot/lib/python3.9/site-packages/click-8.0.1-py3.9.egg',\n",
       " '/anaconda/envs/audio_chat_bot/lib/python3.9/site-packages/traitlets-5.0.5-py3.9.egg',\n",
       " '/anaconda/envs/audio_chat_bot/lib/python3.9/site-packages/prompt_toolkit-3.0.19-py3.9.egg',\n",
       " '/anaconda/envs/audio_chat_bot/lib/python3.9/site-packages/pickleshare-0.7.5-py3.9.egg',\n",
       " '/anaconda/envs/audio_chat_bot/lib/python3.9/site-packages/matplotlib_inline-0.1.2-py3.9.egg',\n",
       " '/anaconda/envs/audio_chat_bot/lib/python3.9/site-packages/jedi-0.18.0-py3.9.egg',\n",
       " '/anaconda/envs/audio_chat_bot/lib/python3.9/site-packages/decorator-5.0.9-py3.9.egg',\n",
       " '/anaconda/envs/audio_chat_bot/lib/python3.9/site-packages/backcall-0.2.0-py3.9.egg',\n",
       " '/anaconda/envs/audio_chat_bot/lib/python3.9/site-packages/antlr4_python3_runtime-4.8-py3.9.egg',\n",
       " '/anaconda/envs/audio_chat_bot/lib/python3.9/site-packages/gitdb-4.0.7-py3.9.egg',\n",
       " '/anaconda/envs/audio_chat_bot/lib/python3.9/site-packages/mccabe-0.6.1-py3.9.egg',\n",
       " '/anaconda/envs/audio_chat_bot/lib/python3.9/site-packages/untokenize-0.1.1-py3.9.egg',\n",
       " '/anaconda/envs/audio_chat_bot/lib/python3.9/site-packages/xxhash-2.0.2-py3.9-linux-x86_64.egg',\n",
       " '/anaconda/envs/audio_chat_bot/lib/python3.9/site-packages/pyarrow-4.0.1-py3.9-linux-x86_64.egg',\n",
       " '/anaconda/envs/audio_chat_bot/lib/python3.9/site-packages/multiprocess-0.70.12.2-py3.9.egg',\n",
       " '/anaconda/envs/audio_chat_bot/lib/python3.9/site-packages/fsspec-2021.7.0-py3.9.egg',\n",
       " '/anaconda/envs/audio_chat_bot/lib/python3.9/site-packages/dill-0.3.4-py3.9.egg',\n",
       " '/anaconda/envs/audio_chat_bot/lib/python3.9/site-packages/humanfriendly-9.2-py3.9.egg',\n",
       " '/anaconda/envs/audio_chat_bot/lib/python3.9/site-packages/jmespath-0.10.0-py3.9.egg',\n",
       " '/anaconda/envs/audio_chat_bot/lib/python3.9/site-packages/s3transfer-0.5.0-py3.9.egg',\n",
       " '/anaconda/envs/audio_chat_bot/lib/python3.9/site-packages/rsa-4.7.2-py3.9.egg',\n",
       " '/anaconda/envs/audio_chat_bot/lib/python3.9/site-packages/pyasn1_modules-0.2.8-py3.9.egg',\n",
       " '/anaconda/envs/audio_chat_bot/lib/python3.9/site-packages/cachetools-4.2.2-py3.9.egg',\n",
       " '/anaconda/envs/audio_chat_bot/lib/python3.9/site-packages/requests_oauthlib-1.3.0-py3.9.egg',\n",
       " '/anaconda/envs/audio_chat_bot/lib/python3.9/site-packages/MarkupSafe-2.0.1-py3.9-linux-x86_64.egg',\n",
       " '/anaconda/envs/audio_chat_bot/lib/python3.9/site-packages/ipython_genutils-0.2.0-py3.9.egg',\n",
       " '/anaconda/envs/audio_chat_bot/lib/python3.9/site-packages/wcwidth-0.2.5-py3.9.egg',\n",
       " '/anaconda/envs/audio_chat_bot/lib/python3.9/site-packages/parso-0.8.2-py3.9.egg',\n",
       " '/anaconda/envs/audio_chat_bot/lib/python3.9/site-packages/smmap-4.0.0-py3.9.egg',\n",
       " '/anaconda/envs/audio_chat_bot/lib/python3.9/site-packages/filelock-3.0.12-py3.9.egg',\n",
       " '/anaconda/envs/audio_chat_bot/lib/python3.9/site-packages/pyasn1-0.4.8-py3.9.egg',\n",
       " '/anaconda/envs/audio_chat_bot/lib/python3.9/site-packages/oauthlib-3.1.1-py3.9.egg',\n",
       " '/anaconda/envs/audio_chat_bot/lib/python3.9/site-packages/IPython/extensions',\n",
       " '/home/azureuser/.ipython',\n",
       " '/anaconda/envs/audio_chat_bot/lib/python3.9/site-packages/gitdb-4.0.7-py3.9.egg/gitdb/ext/smmap',\n",
       " '/datadrive/ankur/ParlAI']"
      ]
     },
     "execution_count": 4,
     "metadata": {},
     "output_type": "execute_result"
    }
   ],
   "source": [
    "sys.path"
   ]
  },
  {
   "cell_type": "code",
   "execution_count": 5,
   "id": "1fd3d62b",
   "metadata": {},
   "outputs": [
    {
     "name": "stdout",
     "output_type": "stream",
     "text": [
      "CODE_OF_CONDUCT.md  codecov.yml               \u001b[0m\u001b[01;34mparlai\u001b[0m/           setup.py\r\n",
      "CONTRIBUTING.md     conftest.py               \u001b[01;34mparlai.egg-info\u001b[0m/  \u001b[01;34mtests\u001b[0m/\r\n",
      "LICENSE             \u001b[01;34mdata\u001b[0m/                     \u001b[01;34mprojects\u001b[0m/         \u001b[01;34mwebsite\u001b[0m/\r\n",
      "NEWS.md             \u001b[01;34mdocs\u001b[0m/                     pyproject.toml\r\n",
      "README.md           \u001b[01;34mexample_parlai_internal\u001b[0m/  pytest.ini\r\n",
      "\u001b[01;32mautoformat.sh\u001b[0m*      mypy.ini                  requirements.txt\r\n"
     ]
    }
   ],
   "source": [
    "ls ParlAI"
   ]
  },
  {
   "cell_type": "code",
   "execution_count": 6,
   "id": "9f348992",
   "metadata": {},
   "outputs": [
    {
     "name": "stdout",
     "output_type": "stream",
     "text": [
      "\u001b[0m\u001b[01;34mConversationTTS\u001b[0m/  ParlAI.ipynb  \u001b[01;31mfs3.tar.gz\u001b[0m   nohup.out         package-list.txt\r\n",
      "\u001b[01;34mFastSpeech\u001b[0m/       file.txt      hello-world  nohup_fs2.out     parley_api.py\r\n",
      "\u001b[01;34mParlAI\u001b[0m/           \u001b[01;34mfs3\u001b[0m/          \u001b[01;32mngrok\u001b[0m*       nohup_parlai.out  train2_key.cer\r\n"
     ]
    }
   ],
   "source": [
    "ls"
   ]
  },
  {
   "cell_type": "code",
   "execution_count": 7,
   "id": "1925fb99",
   "metadata": {},
   "outputs": [],
   "source": [
    "# from parlai.core.params import ParlaiParser\n",
    "from ParlAI.parlai.core.agents import create_agent\n",
    "from ParlAI.parlai.core.worlds import create_task\n",
    "from ParlAI.parlai.utils.strings import colorize\n",
    "import ParlAI.parlai.utils.logging as logging\n",
    "# from parlai.core.script import ParlaiScript, register_script\n",
    "from ParlAI.parlai.utils.world_logging import WorldLogger\n",
    "from ParlAI.parlai.agents.local_human.local_human import LocalHumanAgent\n",
    "# from ParlAI.parlai.agents.safe_local_human.safe_local_human import SafeLocalHumanAgent\n",
    "# import parlai.utils.logging as logging"
   ]
  },
  {
   "cell_type": "code",
   "execution_count": 8,
   "id": "7fe3ee23",
   "metadata": {},
   "outputs": [],
   "source": [
    "class LocalHumanAgent_which_acts_on_given_text(LocalHumanAgent):\n",
    "    def act(self, response_text): #Added\n",
    "        reply = Message()\n",
    "        reply['id'] = self.getID()\n",
    "        try:\n",
    "            reply_text = response_text\n",
    "        except EOFError:\n",
    "            self.finished = True\n",
    "            return {'episode_done': True}\n",
    "\n",
    "        reply_text = reply_text.replace('\\\\n', '\\n')\n",
    "        reply['episode_done'] = False\n",
    "        if self.opt.get('single_turn', False):\n",
    "            reply.force_set('episode_done', True)\n",
    "        reply['label_candidates'] = self.fixedCands_txt\n",
    "        if '[DONE]' in reply_text:\n",
    "            # let interactive know we're resetting\n",
    "            raise StopIteration\n",
    "        reply['text'] = reply_text\n",
    "        if '[EXIT]' in reply_text:\n",
    "            self.finished = True\n",
    "            raise StopIteration\n",
    "        return reply\n",
    "\n",
    "    def episode_done(self):\n",
    "        return self.episodeDone"
   ]
  },
  {
   "cell_type": "code",
   "execution_count": 9,
   "id": "5e971743",
   "metadata": {},
   "outputs": [],
   "source": [
    "# opt = {'init_opt': None, 'allow_missing_init_opts': False, \n",
    "#        'task': 'blended_skill_talk', 'download_path': None, 'loglevel': 'info', 'datatype': 'train', 'image_mode': 'raw', 'hide_labels': False, 'multitask_weights': [1], 'batchsize': 1, 'dynamic_batching': None, 'verbose': False, 'is_debug': False, 'datapath': '/home/azureuser/ankur/ParlAI/data', 'model': None, \n",
    "#        'model_file': '/home/azureuser/ankur/ParlAI/data/models/blender/blender_90M/model', 'init_model': None, 'dict_class': 'parlai.core.dict:DictionaryAgent', 'display_examples': False, 'display_prettify': False, 'display_add_fields': '', \n",
    "#        'interactive_task': True, \n",
    "#        'outfile': '', 'save_format': 'conversations', 'local_human_candidates_file': None, 'single_turn': False, 'log_keep_fields': 'all', 'image_size': 256, 'image_cropsize': 224, 'mutators': None, 'embedding_size': 300, 'n_layers': 2, 'ffn_size': 300, 'dropout': 0.0, 'attention_dropout': 0.0, 'relu_dropout': 0.0, 'n_heads': 2, 'learn_positional_embeddings': False, 'embeddings_scale': True, 'n_positions': None, 'n_segments': 0, 'variant': 'aiayn', 'activation': 'relu', 'output_scaling': 1.0, 'share_word_embeddings': True, 'n_encoder_layers': -1, 'n_decoder_layers': -1, 'model_parallel': False, 'beam_size': 1, 'beam_min_length': 1, 'beam_context_block_ngram': -1, 'beam_block_ngram': -1, 'beam_block_full_context': True, 'beam_length_penalty': 0.65, 'skip_generation': False, 'inference': 'greedy', 'topk': 10, 'topp': 0.9, 'beam_delay': 30, 'beam_block_list_filename': None, 'temperature': 1.0, 'compute_tokenized_bleu': False, \n",
    "#        'interactive_mode': True, 'embedding_type': 'random', 'embedding_projection': 'random', 'fp16': False, 'fp16_impl': 'safe', 'force_fp16_tokens': False, 'optimizer': 'sgd', 'learningrate': 1, 'gradient_clip': 0.1, 'adam_eps': 1e-08, 'adafactor_eps': (1e-30, 0.001), 'momentum': 0, 'nesterov': True, 'nus': (0.7,), 'betas': (0.9, 0.999), 'weight_decay': None, 'rank_candidates': False, 'truncate': -1, 'text_truncate': None, 'label_truncate': None, 'history_reversed': False, 'history_size': -1, 'person_tokens': False, 'split_lines': False, 'use_reply': 'label', 'add_p1_after_newln': False, 'delimiter': '\\n', 'history_add_global_end_token': None, 'special_tok_lst': None, 'gpu': -1, 'no_cuda': False, 'dict_file': None, 'dict_initpath': None, 'dict_language': 'english', 'dict_max_ngram_size': -1, 'dict_minfreq': 0, 'dict_maxtokens': -1, 'dict_nulltoken': '__null__', 'dict_starttoken': '__start__', 'dict_endtoken': '__end__', 'dict_unktoken': '__unk__', 'dict_tokenizer': 're', 'dict_lower': False, 'bpe_debug': False, 'dict_textfields': 'text,labels', 'bpe_vocab': None, 'bpe_merge': None, 'bpe_add_prefix_space': None, 'bpe_dropout': None, 'lr_scheduler': 'reduceonplateau', 'lr_scheduler_patience': 3, 'lr_scheduler_decay': 0.5, 'invsqrt_lr_decay_gamma': -1, 'warmup_updates': -1, 'warmup_rate': 0.0001, 'update_freq': 1, \n",
    "#        'display_partner_persona': False, \n",
    "#        'include_personas': False, 'include_initial_utterances': False, \n",
    "#        'safe_personas_only': True, 'parlai_home': '/home/azureuser/ankur/ParlAI', 'override': {}, 'starttime': 'Jun16_17-44'}"
   ]
  },
  {
   "cell_type": "code",
   "execution_count": 10,
   "id": "aa027204",
   "metadata": {},
   "outputs": [],
   "source": [
    "# opt = {'init_opt': None, 'allow_missing_init_opts': False, \n",
    "#        'task': 'blended_skill_talk', 'download_path': None, 'loglevel': 'info', 'datatype': 'train', 'image_mode': 'raw', 'hide_labels': False, 'multitask_weights': [1], 'batchsize': 1, 'dynamic_batching': None, 'verbose': False, 'is_debug': False, 'datapath': '/home/azureuser/ankur/ParlAI/data', 'model': None, \n",
    "#        'model_file': '/home/azureuser/ankur/ParlAI/data/models/blender/blender_3B/model', 'init_model': None, 'dict_class': 'parlai.core.dict:DictionaryAgent', 'display_examples': False, 'display_prettify': False, 'display_add_fields': '', \n",
    "#        'interactive_task': True, \n",
    "#        'outfile': '', 'save_format': 'conversations', 'local_human_candidates_file': None, 'single_turn': False, 'log_keep_fields': 'all', 'image_size': 256, 'image_cropsize': 224, 'mutators': None, 'embedding_size': 300, 'n_layers': 2, 'ffn_size': 300, 'dropout': 0.0, 'attention_dropout': 0.0, 'relu_dropout': 0.0, 'n_heads': 2, 'learn_positional_embeddings': False, 'embeddings_scale': True, 'n_positions': None, 'n_segments': 0, 'variant': 'aiayn', 'activation': 'relu', 'output_scaling': 1.0, 'share_word_embeddings': True, 'n_encoder_layers': -1, 'n_decoder_layers': -1, 'model_parallel': False, 'beam_size': 1, 'beam_min_length': 1, 'beam_context_block_ngram': -1, 'beam_block_ngram': -1, 'beam_block_full_context': True, 'beam_length_penalty': 0.65, 'skip_generation': False, 'inference': 'greedy', 'topk': 10, 'topp': 0.9, 'beam_delay': 30, 'beam_block_list_filename': None, 'temperature': 1.0, 'compute_tokenized_bleu': False, \n",
    "#        'interactive_mode': True, 'embedding_type': 'random', 'embedding_projection': 'random', 'fp16': False, 'fp16_impl': 'safe', 'force_fp16_tokens': False, 'optimizer': 'sgd', 'learningrate': 1, 'gradient_clip': 0.1, 'adam_eps': 1e-08, 'adafactor_eps': (1e-30, 0.001), 'momentum': 0, 'nesterov': True, 'nus': (0.7,), 'betas': (0.9, 0.999), 'weight_decay': None, 'rank_candidates': False, 'truncate': -1, 'text_truncate': None, 'label_truncate': None, 'history_reversed': False, 'history_size': -1, 'person_tokens': False, 'split_lines': False, 'use_reply': 'label', 'add_p1_after_newln': False, 'delimiter': '\\n', 'history_add_global_end_token': None, 'special_tok_lst': None, 'gpu': -1, 'no_cuda': False, 'dict_file': None, 'dict_initpath': None, 'dict_language': 'english', 'dict_max_ngram_size': -1, 'dict_minfreq': 0, 'dict_maxtokens': -1, 'dict_nulltoken': '__null__', 'dict_starttoken': '__start__', 'dict_endtoken': '__end__', 'dict_unktoken': '__unk__', 'dict_tokenizer': 're', 'dict_lower': False, 'bpe_debug': False, 'dict_textfields': 'text,labels', 'bpe_vocab': None, 'bpe_merge': None, 'bpe_add_prefix_space': None, 'bpe_dropout': None, 'lr_scheduler': 'reduceonplateau', 'lr_scheduler_patience': 3, 'lr_scheduler_decay': 0.5, 'invsqrt_lr_decay_gamma': -1, 'warmup_updates': -1, 'warmup_rate': 0.0001, 'update_freq': 1, \n",
    "#        'display_partner_persona': False, \n",
    "#        'include_personas': False, 'include_initial_utterances': False, \n",
    "#        'safe_personas_only': True, 'parlai_home': '/home/azureuser/ankur/ParlAI', 'override': {}, 'starttime': 'Jun16_17-44'}\n"
   ]
  },
  {
   "cell_type": "code",
   "execution_count": 11,
   "id": "ce5ce765",
   "metadata": {},
   "outputs": [],
   "source": [
    "# opt = {'init_opt': None, 'allow_missing_init_opts': False, 'task': 'blended_skill_talk', 'download_path': None, 'loglevel': 'info', 'datatype': 'train', 'image_mode': 'raw', 'hide_labels': False, 'multitask_weights': [1], 'batchsize': 1, 'dynamic_batching': None, 'verbose': False, 'is_debug': False, \n",
    "#  'datapath': '/datadrive/ankur/ParlAI/data', \n",
    "#  'model': None, \n",
    "#  'model_file': '/datadrive/ankur/ParlAI/data/models/blender/blender_90M/model', \n",
    "#  'init_model': None, \n",
    "#  'dict_class': 'parlai.core.dict:DictionaryAgent', 'display_examples': False, 'display_prettify': False, 'display_add_fields': '', \n",
    "#  'interactive_task': True, 'safety': 'none', 'local_human_candidates_file': None, 'single_turn': False, 'image_size': 256, 'image_cropsize': 224, 'mutators': None, 'embedding_size': 300, 'n_layers': 2, 'ffn_size': 300, 'dropout': 0.0, 'attention_dropout': 0.0, 'relu_dropout': 0.0, 'n_heads': 2, 'learn_positional_embeddings': False, 'embeddings_scale': True, 'n_positions': None, 'n_segments': 0, 'variant': 'aiayn', 'activation': 'relu', 'output_scaling': 1.0, 'share_word_embeddings': True, 'n_encoder_layers': -1, 'n_decoder_layers': -1, 'model_parallel': False, 'beam_size': 1, 'beam_min_length': 1, 'beam_context_block_ngram': -1, 'beam_block_ngram': -1, 'beam_block_full_context': True, 'beam_length_penalty': 0.65, 'skip_generation': False, 'inference': 'greedy', 'topk': 10, 'topp': 0.9, 'beam_delay': 30, 'beam_block_list_filename': None, 'temperature': 1.0, 'compute_tokenized_bleu': False, 'interactive_mode': True, 'embedding_type': 'random', 'embedding_projection': 'random', 'fp16': False, 'fp16_impl': 'safe', 'force_fp16_tokens': False, 'optimizer': 'sgd', 'learningrate': 1, 'gradient_clip': 0.1, 'adam_eps': 1e-08, 'adafactor_eps': (1e-30, 0.001), 'momentum': 0, 'nesterov': True, 'nus': (0.7,), 'betas': (0.9, 0.999), 'weight_decay': None, 'rank_candidates': False, 'truncate': -1, 'text_truncate': None, 'label_truncate': None, 'history_reversed': False, 'history_size': -1, 'person_tokens': False, 'split_lines': False, 'use_reply': 'label', 'add_p1_after_newln': False, 'delimiter': '\\n', 'history_add_global_end_token': None, 'special_tok_lst': None, 'gpu': -1, 'no_cuda': False, 'dict_file': None, 'dict_initpath': None, 'dict_language': 'english', 'dict_max_ngram_size': -1, 'dict_minfreq': 0, 'dict_maxtokens': -1, 'dict_nulltoken': '__null__', 'dict_starttoken': '__start__', 'dict_endtoken': '__end__', 'dict_unktoken': '__unk__', 'dict_tokenizer': 're', 'dict_lower': False, 'bpe_debug': False, 'dict_textfields': 'text,labels', 'bpe_vocab': None, 'bpe_merge': None, 'bpe_add_prefix_space': None, 'bpe_dropout': None, 'lr_scheduler': 'reduceonplateau', 'lr_scheduler_patience': 3, 'lr_scheduler_decay': 0.5, 'invsqrt_lr_decay_gamma': -1, 'warmup_updates': -1, 'warmup_rate': 0.0001, 'update_freq': 1, 'display_partner_persona': True, 'include_personas': True, 'include_initial_utterances': False, \n",
    "#  'safe_personas_only': True, 'parlai_home': '/datadrive/ankur/ParlAI', 'override': {}, 'starttime': 'Jul28_11-45'}"
   ]
  },
  {
   "cell_type": "code",
   "execution_count": 12,
   "id": "859839e8",
   "metadata": {},
   "outputs": [],
   "source": [
    "opt = {'init_opt': None, 'allow_missing_init_opts': False, \n",
    "       'task': 'blended_skill_talk', \n",
    "       'download_path': None, 'loglevel': 'info', \n",
    "       'datatype': 'train', 'image_mode': 'raw', 'hide_labels': False, 'multitask_weights': [1], 'batchsize': 1, 'dynamic_batching': None, 'verbose': False, 'is_debug': False, \n",
    "       'datapath': '/datadrive/ankur/ParlAI/data', \n",
    "       'model': None, \n",
    "       'model_file': '/datadrive/ankur/ParlAI/data/models/blenderbot2/blenderbot2_400M/model', \n",
    "       'init_model': None, 'dict_class': 'parlai.core.dict:DictionaryAgent', 'display_examples': False, 'display_prettify': False, 'display_add_fields': '', \n",
    "       'interactive_task': True, 'outfile': '', 'save_format': 'conversations', 'local_human_candidates_file': None, 'single_turn': False, 'log_keep_fields': 'all', 'image_size': 256, 'image_cropsize': 224, 'candidates': 'inline', 'eval_candidates': 'inline', 'interactive_candidates': 'fixed', 'repeat_blocking_heuristic': True, 'fixed_candidates_path': None, 'fixed_candidate_vecs': 'reuse', 'encode_candidate_vecs': True, 'encode_candidate_vecs_batchsize': 256, 'train_predict': False, 'cap_num_predictions': 100, 'ignore_bad_candidates': False, 'rank_top_k': -1, 'return_cand_scores': False, 'use_memories': True, 'wrap_memory_encoder': False, 'memory_attention': 'sqrt', 'normalize_sent_emb': False, 'share_encoders': True, 'learn_embeddings': True, 'data_parallel': False, 'reduction_type': 'mean', 'polyencoder_type': 'codes', 'poly_n_codes': 64, 'poly_attention_type': 'basic', 'poly_attention_num_heads': 4, 'codes_attention_type': 'basic', 'codes_attention_num_heads': 4, 'embedding_size': 300, 'n_layers': 2, 'ffn_size': 300, 'dropout': 0.0, 'attention_dropout': 0.0, 'relu_dropout': 0.0, 'n_heads': 2, 'learn_positional_embeddings': False, 'embeddings_scale': True, 'n_positions': None, 'n_segments': 0, 'variant': 'aiayn', 'activation': 'relu', 'output_scaling': 1.0, 'share_word_embeddings': True, 'n_encoder_layers': -1, 'n_decoder_layers': -1, 'model_parallel': False, 'generation_model': 'bart', 'query_model': 'bert', 'rag_model_type': 'sequence', 'thorough': False, 'n_extra_positions': 0, 'gold_knowledge_passage_key': 'checked_sentence', 'gold_knowledge_title_key': 'title', 'rag_retriever_query': 'full_history', 'rag_retriever_type': 'dpr', 'retriever_debug_index': None, 'n_docs': 5, 'min_doc_token_length': 64, 'max_doc_token_length': 256, 'rag_query_truncate': 512, 'print_docs': False, 'path_to_index': 'zoo:hallucination/wiki_index_compressed/compressed_pq', 'path_to_dense_embeddings': None, 'dpr_model_file': 'zoo:hallucination/multiset_dpr/hf_bert_base.cp', 'path_to_dpr_passages': 'zoo:hallucination/wiki_passages/psgs_w100.tsv', 'retriever_embedding_size': 768, 'tfidf_max_doc_paragraphs': -1, 'tfidf_model_path': 'zoo:wikipedia_full/tfidf_retriever/model', 'dpr_num_docs': 25, 'poly_score_initial_lambda': 0.5, 'polyencoder_init_model': 'wikito', 'poly_faiss_model_file': None, 'regret': False, 'regret_intermediate_maxlen': 32, 'regret_model_file': None, 'indexer_type': 'compressed', 'indexer_buffer_size': 65536, 'compressed_indexer_factory': 'IVF4096_HNSW128,PQ128', 'compressed_indexer_gpu_train': False, 'compressed_indexer_nprobe': 64, 'hnsw_indexer_store_n': 128, 'hnsw_ef_search': 128, 'hnsw_ef_construction': 200, 'rag_turn_n_turns': 2, 'rag_turn_marginalize': 'doc_then_turn', 'rag_turn_discount_factor': 1.0, 'beam_size': 1, 'beam_min_length': 1, 'beam_context_block_ngram': -1, 'beam_block_ngram': -1, 'beam_block_full_context': True, 'beam_length_penalty': 0.65, 'skip_generation': False, 'inference': 'greedy', 'topk': 10, 'topp': 0.9, 'beam_delay': 30, 'beam_block_list_filename': None, 'temperature': 1.0, 'compute_tokenized_bleu': False, 'interactive_mode': True, 'embedding_type': 'random', 'embedding_projection': 'random', 'fp16': False, 'fp16_impl': 'safe', 'force_fp16_tokens': False, 'optimizer': 'adamax', 'learningrate': 0.0001, 'gradient_clip': 0.1, 'adam_eps': 1e-08, 'adafactor_eps': (1e-30, 0.001), 'momentum': 0, 'nesterov': True, 'nus': (0.7,), 'betas': (0.9, 0.999), 'weight_decay': None, 'rank_candidates': False, 'truncate': 1024, 'text_truncate': None, 'label_truncate': None, 'history_reversed': False, 'history_size': -1, 'person_tokens': False, 'split_lines': False, 'use_reply': 'label', 'add_p1_after_newln': False, 'delimiter': '\\n', 'history_add_global_end_token': None, 'special_tok_lst': None, 'gpu': -1, 'no_cuda': False, 'dict_file': None, 'dict_initpath': None, 'dict_language': 'english', 'dict_max_ngram_size': -1, 'dict_minfreq': 0, 'dict_maxtokens': -1, 'dict_nulltoken': '__null__', 'dict_starttoken': '__start__', 'dict_endtoken': '__end__', 'dict_unktoken': '__unk__', 'dict_tokenizer': 're', 'dict_lower': False, 'bpe_debug': False, 'dict_textfields': 'text,labels', 'bpe_vocab': None, 'bpe_merge': None, 'bpe_add_prefix_space': None, 'bpe_dropout': None, 'lr_scheduler': 'reduceonplateau', 'lr_scheduler_patience': 3, 'lr_scheduler_decay': 0.5, 'invsqrt_lr_decay_gamma': -1, 'warmup_updates': -1, 'warmup_rate': 0.0001, 'update_freq': 1, 't5_model_arch': 't5-base', 't5_model_parallel': False, 't5_dropout': 0.0, 't5_generation_config': None, 'search_query_generator_model_file': None, \n",
    "       'search_query_generator_inference': 'beam', 'search_query_generator_beam_min_length': 1, 'search_query_generator_beam_size': 1, 'search_query_generator_text_truncate': 512, 'splitted_chunk_length': 256, 'doc_chunk_split_mode': 'word', \n",
    "       'n_ranked_doc_chunks': 1, 'doc_chunks_ranker': 'head', 'search_server': 'https://www.google.com/', 'knowledge_access_method': 'classify', 'memory_key': 'full_text', 'query_generator_key': 'full_text', \n",
    "       'gold_document_key': '__selected-docs__', 'gold_sentence_key': '__selected-sentences__', 'gold_document_titles_key': '__select-docs-titles__', 'insert_gold_docs': False, \n",
    "       'memory_extractor_phrase': 'persona:', 'retriever_ignore_phrase': 'persona:', 'query_generator_ignore_phrase': 'persona:', \n",
    "       'query_generator_model_file': 'zoo:blenderbot2/query_generator/model', 'query_generator_delimiter': '\\n', 'query_generator_inference': 'beam', 'query_generator_beam_size': 1, 'query_generator_beam_min_length': 2, 'query_generator_truncate': -1, 'memory_retriever_truncate': -1, 'retriever_delimiter': '\\n', 'share_search_and_memory_query_encoder': False, 'memory_reader_model': None, 'memory_doc_title_delimiter': ' / ', 'memory_writer_model': 'bert', 'memory_writer_model_file': 'zoo:hallucination/multiset_dpr/hf_bert_base.cp', 'memory_decoder_key': 'full_text', \n",
    "       'memory_decoder_ignore_phrase': 'persona:', 'memory_decoder_model_file': 'zoo:blenderbot2/memory_decoder/model', 'memory_decoder_delimiter': '\\n', 'memory_decoder_beam_size': 3, 'memory_decoder_beam_min_length': 10, 'memory_decoder_truncate': -1, 'memory_decoder_one_line_memories': False, \n",
    "       'parlai_home': '/datadrive/ankur/ParlAI', 'override': {'model_file': '/datadrive/ankur/ParlAI/data/models/blenderbot2/blenderbot2_400M/model', 'search_server': 'https://www.google.com/', 'search_query_generator_inference': 'beam', 'use_memories': True, 'rag_model_type': 'sequence'}, \n",
    "       'starttime': 'Jul28_12-11', 'display_partner_persona': True}"
   ]
  },
  {
   "cell_type": "code",
   "execution_count": 13,
   "id": "fae6ab24",
   "metadata": {},
   "outputs": [],
   "source": [
    "# import gc\n",
    "\n",
    "# agent = None\n",
    "# world = None\n",
    "\n",
    "# gc.collect()\n",
    "\n",
    "# torch.cuda.empty_cache()"
   ]
  },
  {
   "cell_type": "code",
   "execution_count": 14,
   "id": "712dc0bf",
   "metadata": {
    "scrolled": false
   },
   "outputs": [],
   "source": [
    "# agent = create_agent(opt)\n",
    "# world = create_task(opt, agent)"
   ]
  },
  {
   "cell_type": "code",
   "execution_count": 15,
   "id": "2075d063",
   "metadata": {},
   "outputs": [],
   "source": [
    "# world.parley()\n",
    "# teacher, response = world.get_acts()\n",
    "# response.get('text', 'No response')"
   ]
  },
  {
   "cell_type": "markdown",
   "id": "4b4b0ea8",
   "metadata": {},
   "source": [
    "[Record Cell](#record_cell)"
   ]
  },
  {
   "cell_type": "code",
   "execution_count": 16,
   "id": "4cd9787d",
   "metadata": {},
   "outputs": [
    {
     "ename": "SyntaxError",
     "evalue": "invalid syntax (493756296.py, line 1)",
     "output_type": "error",
     "traceback": [
      "\u001b[0;36m  File \u001b[0;32m\"/tmp/ipykernel_10880/493756296.py\"\u001b[0;36m, line \u001b[0;32m1\u001b[0m\n\u001b[0;31m    1. agents/local_human/local_human.py\u001b[0m\n\u001b[0m       ^\u001b[0m\n\u001b[0;31mSyntaxError\u001b[0m\u001b[0;31m:\u001b[0m invalid syntax\n"
     ]
    }
   ],
   "source": [
    "1. agents/local_human/local_human.py\n",
    "2. tasks/interactive/worlds.py"
   ]
  },
  {
   "cell_type": "code",
   "execution_count": null,
   "id": "b6b9598d",
   "metadata": {},
   "outputs": [],
   "source": []
  },
  {
   "cell_type": "code",
   "execution_count": 17,
   "id": "c3db2f32",
   "metadata": {},
   "outputs": [],
   "source": [
    "# import autoreload\n",
    "# %load_ext autoreload\n",
    "# %autoreload 2"
   ]
  },
  {
   "cell_type": "code",
   "execution_count": 18,
   "id": "0843ee0a",
   "metadata": {},
   "outputs": [
    {
     "name": "stdout",
     "output_type": "stream",
     "text": [
      "{'init_opt': None, 'allow_missing_init_opts': False, 'task': 'blended_skill_talk', 'download_path': None, 'loglevel': 'info', 'datatype': 'train', 'image_mode': 'raw', 'hide_labels': False, 'multitask_weights': [1], 'batchsize': 1, 'dynamic_batching': None, 'verbose': False, 'is_debug': False, 'datapath': '/datadrive/ankur/ParlAI/data', 'model': None, 'model_file': '/datadrive/ankur/ParlAI/data/models/blenderbot2/blenderbot2_400M/model', 'init_model': None, 'dict_class': 'parlai.core.dict:DictionaryAgent', 'display_examples': False, 'display_prettify': False, 'display_add_fields': '', 'interactive_task': True, 'outfile': '', 'save_format': 'conversations', 'local_human_candidates_file': None, 'single_turn': False, 'log_keep_fields': 'all', 'image_size': 256, 'image_cropsize': 224, 'candidates': 'inline', 'eval_candidates': 'inline', 'interactive_candidates': 'fixed', 'repeat_blocking_heuristic': True, 'fixed_candidates_path': None, 'fixed_candidate_vecs': 'reuse', 'encode_candidate_vecs': True, 'encode_candidate_vecs_batchsize': 256, 'train_predict': False, 'cap_num_predictions': 100, 'ignore_bad_candidates': False, 'rank_top_k': -1, 'return_cand_scores': False, 'use_memories': True, 'wrap_memory_encoder': False, 'memory_attention': 'sqrt', 'normalize_sent_emb': False, 'share_encoders': True, 'learn_embeddings': True, 'data_parallel': False, 'reduction_type': 'mean', 'polyencoder_type': 'codes', 'poly_n_codes': 64, 'poly_attention_type': 'basic', 'poly_attention_num_heads': 4, 'codes_attention_type': 'basic', 'codes_attention_num_heads': 4, 'embedding_size': 300, 'n_layers': 2, 'ffn_size': 300, 'dropout': 0.0, 'attention_dropout': 0.0, 'relu_dropout': 0.0, 'n_heads': 2, 'learn_positional_embeddings': False, 'embeddings_scale': True, 'n_positions': None, 'n_segments': 0, 'variant': 'aiayn', 'activation': 'relu', 'output_scaling': 1.0, 'share_word_embeddings': True, 'n_encoder_layers': -1, 'n_decoder_layers': -1, 'model_parallel': False, 'generation_model': 'bart', 'query_model': 'bert', 'rag_model_type': 'sequence', 'thorough': False, 'n_extra_positions': 0, 'gold_knowledge_passage_key': 'checked_sentence', 'gold_knowledge_title_key': 'title', 'rag_retriever_query': 'full_history', 'rag_retriever_type': 'dpr', 'retriever_debug_index': None, 'n_docs': 5, 'min_doc_token_length': 64, 'max_doc_token_length': 256, 'rag_query_truncate': 512, 'print_docs': False, 'path_to_index': 'zoo:hallucination/wiki_index_compressed/compressed_pq', 'path_to_dense_embeddings': None, 'dpr_model_file': 'zoo:hallucination/multiset_dpr/hf_bert_base.cp', 'path_to_dpr_passages': 'zoo:hallucination/wiki_passages/psgs_w100.tsv', 'retriever_embedding_size': 768, 'tfidf_max_doc_paragraphs': -1, 'tfidf_model_path': 'zoo:wikipedia_full/tfidf_retriever/model', 'dpr_num_docs': 25, 'poly_score_initial_lambda': 0.5, 'polyencoder_init_model': 'wikito', 'poly_faiss_model_file': None, 'regret': False, 'regret_intermediate_maxlen': 32, 'regret_model_file': None, 'indexer_type': 'compressed', 'indexer_buffer_size': 65536, 'compressed_indexer_factory': 'IVF4096_HNSW128,PQ128', 'compressed_indexer_gpu_train': False, 'compressed_indexer_nprobe': 64, 'hnsw_indexer_store_n': 128, 'hnsw_ef_search': 128, 'hnsw_ef_construction': 200, 'rag_turn_n_turns': 2, 'rag_turn_marginalize': 'doc_then_turn', 'rag_turn_discount_factor': 1.0, 'beam_size': 1, 'beam_min_length': 1, 'beam_context_block_ngram': -1, 'beam_block_ngram': -1, 'beam_block_full_context': True, 'beam_length_penalty': 0.65, 'skip_generation': False, 'inference': 'greedy', 'topk': 10, 'topp': 0.9, 'beam_delay': 30, 'beam_block_list_filename': None, 'temperature': 1.0, 'compute_tokenized_bleu': False, 'interactive_mode': True, 'embedding_type': 'random', 'embedding_projection': 'random', 'fp16': False, 'fp16_impl': 'safe', 'force_fp16_tokens': False, 'optimizer': 'adamax', 'learningrate': 0.0001, 'gradient_clip': 0.1, 'adam_eps': 1e-08, 'adafactor_eps': (1e-30, 0.001), 'momentum': 0, 'nesterov': True, 'nus': (0.7,), 'betas': (0.9, 0.999), 'weight_decay': None, 'rank_candidates': False, 'truncate': 1024, 'text_truncate': None, 'label_truncate': None, 'history_reversed': False, 'history_size': -1, 'person_tokens': False, 'split_lines': False, 'use_reply': 'label', 'add_p1_after_newln': False, 'delimiter': '\\n', 'history_add_global_end_token': None, 'special_tok_lst': None, 'gpu': -1, 'no_cuda': False, 'dict_file': None, 'dict_initpath': None, 'dict_language': 'english', 'dict_max_ngram_size': -1, 'dict_minfreq': 0, 'dict_maxtokens': -1, 'dict_nulltoken': '__null__', 'dict_starttoken': '__start__', 'dict_endtoken': '__end__', 'dict_unktoken': '__unk__', 'dict_tokenizer': 're', 'dict_lower': False, 'bpe_debug': False, 'dict_textfields': 'text,labels', 'bpe_vocab': None, 'bpe_merge': None, 'bpe_add_prefix_space': None, 'bpe_dropout': None, 'lr_scheduler': 'reduceonplateau', 'lr_scheduler_patience': 3, 'lr_scheduler_decay': 0.5, 'invsqrt_lr_decay_gamma': -1, 'warmup_updates': -1, 'warmup_rate': 0.0001, 'update_freq': 1, 't5_model_arch': 't5-base', 't5_model_parallel': False, 't5_dropout': 0.0, 't5_generation_config': None, 'search_query_generator_model_file': None, 'search_query_generator_inference': 'beam', 'search_query_generator_beam_min_length': 1, 'search_query_generator_beam_size': 1, 'search_query_generator_text_truncate': 512, 'splitted_chunk_length': 256, 'doc_chunk_split_mode': 'word', 'n_ranked_doc_chunks': 1, 'doc_chunks_ranker': 'head', 'search_server': 'https://www.google.com/', 'knowledge_access_method': 'classify', 'memory_key': 'full_text', 'query_generator_key': 'full_text', 'gold_document_key': '__selected-docs__', 'gold_sentence_key': '__selected-sentences__', 'gold_document_titles_key': '__select-docs-titles__', 'insert_gold_docs': False, 'memory_extractor_phrase': 'persona:', 'retriever_ignore_phrase': 'persona:', 'query_generator_ignore_phrase': 'persona:', 'query_generator_model_file': 'zoo:blenderbot2/query_generator/model', 'query_generator_delimiter': '\\n', 'query_generator_inference': 'beam', 'query_generator_beam_size': 1, 'query_generator_beam_min_length': 2, 'query_generator_truncate': -1, 'memory_retriever_truncate': -1, 'retriever_delimiter': '\\n', 'share_search_and_memory_query_encoder': False, 'memory_reader_model': None, 'memory_doc_title_delimiter': ' / ', 'memory_writer_model': 'bert', 'memory_writer_model_file': 'zoo:hallucination/multiset_dpr/hf_bert_base.cp', 'memory_decoder_key': 'full_text', 'memory_decoder_ignore_phrase': 'persona:', 'memory_decoder_model_file': 'zoo:blenderbot2/memory_decoder/model', 'memory_decoder_delimiter': '\\n', 'memory_decoder_beam_size': 3, 'memory_decoder_beam_min_length': 10, 'memory_decoder_truncate': -1, 'memory_decoder_one_line_memories': False, 'parlai_home': '/datadrive/ankur/ParlAI', 'override': {'model_file': '/datadrive/ankur/ParlAI/data/models/blenderbot2/blenderbot2_400M/model', 'search_server': 'https://www.google.com/', 'search_query_generator_inference': 'beam', 'use_memories': True, 'rag_model_type': 'sequence'}, 'starttime': 'Jul28_12-11', 'display_partner_persona': True}\n",
      "10:40:30 | \u001b[33mOverriding opt[\"model_file\"] to /datadrive/ankur/ParlAI/data/models/blenderbot2/blenderbot2_400M/model (previously: /checkpoint/kshuster/projects/knowledge_bot/kbot_memfix_sweep25_Fri_Jul__9/338/model.oss)\u001b[0m\n",
      "10:40:30 | \u001b[33mOverriding opt[\"search_server\"] to https://www.google.com/ (previously: None)\u001b[0m\n",
      "10:40:30 | \u001b[33mOverriding opt[\"search_query_generator_inference\"] to beam (previously: greedy)\u001b[0m\n",
      "10:40:30 | \u001b[33mOverriding opt[\"use_memories\"] to True (previously: False)\u001b[0m\n",
      "10:40:30 | \u001b[33mOverriding opt[\"rag_model_type\"] to sequence (previously: token)\u001b[0m\n",
      "10:40:31 | Using CUDA\n",
      "10:40:31 | loading dictionary from /datadrive/ankur/ParlAI/data/models/blenderbot2/blenderbot2_400M/model.dict\n",
      "10:40:31 | num words = 50264\n"
     ]
    },
    {
     "name": "stderr",
     "output_type": "stream",
     "text": [
      "[nltk_data] Downloading package punkt to /home/azureuser/nltk_data...\n",
      "[nltk_data]   Package punkt is already up-to-date!\n"
     ]
    },
    {
     "name": "stdout",
     "output_type": "stream",
     "text": [
      "10:40:31 | BlenderBot2Fid: full interactive mode on.\n",
      "10:40:43 | Creating the search engine retriever.\n"
     ]
    },
    {
     "name": "stderr",
     "output_type": "stream",
     "text": [
      "Some weights of the model checkpoint at bert-base-uncased were not used when initializing BertModel: ['cls.predictions.transform.dense.bias', 'cls.predictions.decoder.weight', 'cls.predictions.transform.dense.weight', 'cls.predictions.transform.LayerNorm.weight', 'cls.predictions.transform.LayerNorm.bias', 'cls.seq_relationship.weight', 'cls.seq_relationship.bias', 'cls.predictions.bias']\n",
      "- This IS expected if you are initializing BertModel from the checkpoint of a model trained on another task or with another architecture (e.g. initializing a BertForSequenceClassification model from a BertForPreTraining model).\n",
      "- This IS NOT expected if you are initializing BertModel from the checkpoint of a model that you expect to be exactly identical (initializing a BertForSequenceClassification model from a BertForSequenceClassification model).\n"
     ]
    },
    {
     "name": "stdout",
     "output_type": "stream",
     "text": [
      "10:40:53 | Building Query Generator from file: /datadrive/ankur/ParlAI/data/models/blenderbot2/query_generator/model\n",
      "10:41:03 | Building Memory Decoder from file: /datadrive/ankur/ParlAI/data/models/blenderbot2/memory_decoder/model\n",
      "10:41:10 | Total parameters: 732,961,280 (731,781,632 trainable)\n",
      "10:41:10 | Loading existing model params from /datadrive/ankur/ParlAI/data/models/blenderbot2/blenderbot2_400M/model\n",
      "\u001b[1;31mEnter [DONE] if you want to end the episode, [EXIT] to quit.\u001b[0;0m\n"
     ]
    }
   ],
   "source": [
    "#Set the opt parameters before\n",
    "agent = create_agent(opt, requireModelExists=True)\n",
    "human_agent = LocalHumanAgent(opt)"
   ]
  },
  {
   "cell_type": "code",
   "execution_count": 19,
   "id": "13522b66",
   "metadata": {},
   "outputs": [
    {
     "data": {
      "text/plain": [
       "''"
      ]
     },
     "execution_count": 19,
     "metadata": {},
     "output_type": "execute_result"
    }
   ],
   "source": [
    "opt[\"outfile\"]"
   ]
  },
  {
   "cell_type": "code",
   "execution_count": 20,
   "id": "bdd58053",
   "metadata": {},
   "outputs": [],
   "source": [
    "world_logger = WorldLogger(opt) if opt.get('outfile') else None\n",
    "world_logger"
   ]
  },
  {
   "cell_type": "code",
   "execution_count": 21,
   "id": "280610e3",
   "metadata": {},
   "outputs": [
    {
     "name": "stdout",
     "output_type": "stream",
     "text": [
      "10:41:12 | creating task(s): blended_skill_talk\n",
      "[ loading personas.. ]\n",
      "\n",
      "  [NOTE: In the BST paper both partners have a persona.\n",
      "         You can choose to ignore yours, the model never sees it.\n",
      "         In the Blender paper, this was not used for humans.\n",
      "         You can also turn personas off with --include-personas False]\n",
      "\n"
     ]
    }
   ],
   "source": [
    "world = create_task(opt, [human_agent, agent])"
   ]
  },
  {
   "cell_type": "code",
   "execution_count": 22,
   "id": "f299e86e",
   "metadata": {},
   "outputs": [
    {
     "data": {
      "text/plain": [
       "False"
      ]
     },
     "execution_count": 22,
     "metadata": {},
     "output_type": "execute_result"
    }
   ],
   "source": [
    "world.epoch_done()"
   ]
  },
  {
   "cell_type": "code",
   "execution_count": 23,
   "id": "53c40eb4",
   "metadata": {},
   "outputs": [
    {
     "name": "stdout",
     "output_type": "stream",
     "text": [
      "In parlai/tasks/interactive/worlds.py: calling with explicit persona\n",
      "\u001b[0;34m[context]:\u001b[0;0m \u001b[1myour persona: i love to sew.\n",
      "your persona: i wait tables at a cafe.\n",
      "its going ok . just doing a little sewing . you ?\n",
      "helping my son with homework , quiet night\u001b[0;0m\n"
     ]
    },
    {
     "name": "stderr",
     "output_type": "stream",
     "text": [
      "/anaconda/envs/audio_chat_bot/lib/python3.9/site-packages/torch-1.9.0-py3.9-linux-x86_64.egg/torch/_tensor.py:575: UserWarning: floor_divide is deprecated, and will be removed in a future version of pytorch. It currently rounds toward 0 (like the 'trunc' function NOT 'floor'). This results in incorrect rounding for negative values.\n",
      "To keep the current behavior, use torch.div(a, b, rounding_mode='trunc'), or for actual floor division, use torch.div(a, b, rounding_mode='floor'). (Triggered internally at  /pytorch/aten/src/ATen/native/BinaryOps.cpp:467.)\n",
      "  return torch.floor_divide(self, other)\n"
     ]
    },
    {
     "name": "stdout",
     "output_type": "stream",
     "text": [
      "\u001b[0;34m[BlenderBot2Fid]:\u001b[0;0m \u001b[1mHello, how are you doing today? I'm doing well, thank you for asking. How are you?\u001b[0;0m\n"
     ]
    }
   ],
   "source": [
    "world.parley(\"Hello\", \"your persona: My name is modi.\")"
   ]
  },
  {
   "cell_type": "code",
   "execution_count": 24,
   "id": "1ba1aa32",
   "metadata": {},
   "outputs": [
    {
     "data": {
      "text/plain": [
       "\"Hello, how are you doing today? I'm doing well, thank you for asking. How are you?\""
      ]
     },
     "execution_count": 24,
     "metadata": {},
     "output_type": "execute_result"
    }
   ],
   "source": [
    "teacher, response = world.get_acts()\n",
    "response.get('text', 'No response')"
   ]
  },
  {
   "cell_type": "code",
   "execution_count": 25,
   "id": "c8207d99",
   "metadata": {},
   "outputs": [
    {
     "data": {
      "text/plain": [
       "False"
      ]
     },
     "execution_count": 25,
     "metadata": {},
     "output_type": "execute_result"
    }
   ],
   "source": [
    "opt.get('display_examples')"
   ]
  },
  {
   "cell_type": "code",
   "execution_count": 27,
   "id": "37ec3682",
   "metadata": {
    "scrolled": false
   },
   "outputs": [
    {
     "name": "stdout",
     "output_type": "stream",
     "text": [
      "heye. my name is modi\n",
      "Search:  modi\n",
      "Number of faulty links:  0\n",
      "\u001b[0;34m[BlenderBot2Fid]:\u001b[0;0m \u001b[1mNice to meet you, what do you like to do in your spare time? I like to read.\u001b[0;0m\n",
      "Response:  dict_keys(['id', 'episode_done', 'text', 'beam_texts', 'top_docs', 'search_queries', 'metrics'])\n",
      "Top Docs:  [\"Narendra Modi (@narendramodi) | Twitter_0 | Shri Narendra Modi, Hon'ble Prime Minister of India, will address the CIIAnnualSession2021 on the theme 'India 75: Government and Business Working...\", 'Narendra Modi - Wikipedia_0 | listen); born 17 September 1950) is an Indian politician serving as the 14th and current prime minister of India since 2014. He was the chief minister of Gujarat from...', 'Narendra Modi | NarendraModi.in Official Website of Prime Minister ..._0 | Shri Narendra Modi, Get all the information news, updates, speeches on the official website of Prime Minister of India.', \"Narendra Modi latest news, PM Modi updates | The Economic Times_0 | Paying tributes Modi said, 'Shri Virbhadra Singh Ji had a long political career, with rich administrative and legislative experience. He played a pivotal role in...\", \"Narendra Modi | Today's latest from Al Jazeera_0 | Stay on top of Narendra Modi latest developments on the ground with Al Jazeera's fact-based news, exclusive video footage, photos and updated maps.\"]\n",
      "Search Query:  modi\n"
     ]
    },
    {
     "ename": "KeyboardInterrupt",
     "evalue": "Interrupted by user",
     "output_type": "error",
     "traceback": [
      "\u001b[0;31m---------------------------------------------------------------------------\u001b[0m",
      "\u001b[0;31mKeyboardInterrupt\u001b[0m                         Traceback (most recent call last)",
      "\u001b[0;32m/tmp/ipykernel_10880/3244370661.py\u001b[0m in \u001b[0;36m<module>\u001b[0;34m\u001b[0m\n\u001b[1;32m      1\u001b[0m \u001b[0;32mwhile\u001b[0m \u001b[0;32mnot\u001b[0m \u001b[0mworld\u001b[0m\u001b[0;34m.\u001b[0m\u001b[0mepoch_done\u001b[0m\u001b[0;34m(\u001b[0m\u001b[0;34m)\u001b[0m\u001b[0;34m:\u001b[0m\u001b[0;34m\u001b[0m\u001b[0;34m\u001b[0m\u001b[0m\n\u001b[1;32m      2\u001b[0m         \u001b[0;31m#response_text = asr()\u001b[0m\u001b[0;34m\u001b[0m\u001b[0;34m\u001b[0m\u001b[0;34m\u001b[0m\u001b[0m\n\u001b[0;32m----> 3\u001b[0;31m         \u001b[0mresponse_text\u001b[0m \u001b[0;34m=\u001b[0m \u001b[0minput\u001b[0m\u001b[0;34m(\u001b[0m\u001b[0;34m)\u001b[0m\u001b[0;34m\u001b[0m\u001b[0;34m\u001b[0m\u001b[0m\n\u001b[0m\u001b[1;32m      4\u001b[0m         \u001b[0mworld\u001b[0m\u001b[0;34m.\u001b[0m\u001b[0mparley\u001b[0m\u001b[0;34m(\u001b[0m\u001b[0mresponse_text\u001b[0m\u001b[0;34m,\u001b[0m \u001b[0;34m\"your persona: My name is modi.\\nyour persona: I like mangoes.\"\u001b[0m\u001b[0;34m)\u001b[0m\u001b[0;34m\u001b[0m\u001b[0;34m\u001b[0m\u001b[0m\n\u001b[1;32m      5\u001b[0m         \u001b[0;32mif\u001b[0m \u001b[0mworld\u001b[0m\u001b[0;34m.\u001b[0m\u001b[0mepoch_done\u001b[0m\u001b[0;34m(\u001b[0m\u001b[0;34m)\u001b[0m \u001b[0;32mor\u001b[0m \u001b[0mworld\u001b[0m\u001b[0;34m.\u001b[0m\u001b[0mget_total_parleys\u001b[0m\u001b[0;34m(\u001b[0m\u001b[0;34m)\u001b[0m \u001b[0;34m<=\u001b[0m \u001b[0;36m0\u001b[0m\u001b[0;34m:\u001b[0m\u001b[0;34m\u001b[0m\u001b[0;34m\u001b[0m\u001b[0m\n",
      "\u001b[0;32m/anaconda/envs/audio_chat_bot/lib/python3.9/site-packages/ipykernel/kernelbase.py\u001b[0m in \u001b[0;36mraw_input\u001b[0;34m(self, prompt)\u001b[0m\n\u001b[1;32m    979\u001b[0m                 \u001b[0;34m\"raw_input was called, but this frontend does not support input requests.\"\u001b[0m\u001b[0;34m\u001b[0m\u001b[0;34m\u001b[0m\u001b[0m\n\u001b[1;32m    980\u001b[0m             )\n\u001b[0;32m--> 981\u001b[0;31m         return self._input_request(\n\u001b[0m\u001b[1;32m    982\u001b[0m             \u001b[0mstr\u001b[0m\u001b[0;34m(\u001b[0m\u001b[0mprompt\u001b[0m\u001b[0;34m)\u001b[0m\u001b[0;34m,\u001b[0m\u001b[0;34m\u001b[0m\u001b[0;34m\u001b[0m\u001b[0m\n\u001b[1;32m    983\u001b[0m             \u001b[0mself\u001b[0m\u001b[0;34m.\u001b[0m\u001b[0m_parent_ident\u001b[0m\u001b[0;34m[\u001b[0m\u001b[0;34m\"shell\"\u001b[0m\u001b[0;34m]\u001b[0m\u001b[0;34m,\u001b[0m\u001b[0;34m\u001b[0m\u001b[0;34m\u001b[0m\u001b[0m\n",
      "\u001b[0;32m/anaconda/envs/audio_chat_bot/lib/python3.9/site-packages/ipykernel/kernelbase.py\u001b[0m in \u001b[0;36m_input_request\u001b[0;34m(self, prompt, ident, parent, password)\u001b[0m\n\u001b[1;32m   1024\u001b[0m             \u001b[0;32mexcept\u001b[0m \u001b[0mKeyboardInterrupt\u001b[0m\u001b[0;34m:\u001b[0m\u001b[0;34m\u001b[0m\u001b[0;34m\u001b[0m\u001b[0m\n\u001b[1;32m   1025\u001b[0m                 \u001b[0;31m# re-raise KeyboardInterrupt, to truncate traceback\u001b[0m\u001b[0;34m\u001b[0m\u001b[0;34m\u001b[0m\u001b[0;34m\u001b[0m\u001b[0m\n\u001b[0;32m-> 1026\u001b[0;31m                 \u001b[0;32mraise\u001b[0m \u001b[0mKeyboardInterrupt\u001b[0m\u001b[0;34m(\u001b[0m\u001b[0;34m\"Interrupted by user\"\u001b[0m\u001b[0;34m)\u001b[0m \u001b[0;32mfrom\u001b[0m \u001b[0;32mNone\u001b[0m\u001b[0;34m\u001b[0m\u001b[0;34m\u001b[0m\u001b[0m\n\u001b[0m\u001b[1;32m   1027\u001b[0m             \u001b[0;32mexcept\u001b[0m \u001b[0mException\u001b[0m\u001b[0;34m:\u001b[0m\u001b[0;34m\u001b[0m\u001b[0;34m\u001b[0m\u001b[0m\n\u001b[1;32m   1028\u001b[0m                 \u001b[0mself\u001b[0m\u001b[0;34m.\u001b[0m\u001b[0mlog\u001b[0m\u001b[0;34m.\u001b[0m\u001b[0mwarning\u001b[0m\u001b[0;34m(\u001b[0m\u001b[0;34m\"Invalid Message:\"\u001b[0m\u001b[0;34m,\u001b[0m \u001b[0mexc_info\u001b[0m\u001b[0;34m=\u001b[0m\u001b[0;32mTrue\u001b[0m\u001b[0;34m)\u001b[0m\u001b[0;34m\u001b[0m\u001b[0;34m\u001b[0m\u001b[0m\n",
      "\u001b[0;31mKeyboardInterrupt\u001b[0m: Interrupted by user"
     ]
    }
   ],
   "source": [
    "while not world.epoch_done():\n",
    "        #response_text = asr()\n",
    "        response_text = input()\n",
    "        world.parley(response_text, \"your persona: My name is modi.\\nyour persona: I like mangoes.\")\n",
    "        if world.epoch_done() or world.get_total_parleys() <= 0:\n",
    "            # chat was reset with [DONE], [EXIT] or EOF\n",
    "            if world_logger is not None:\n",
    "                world_logger.reset()\n",
    "            continue\n",
    "        teacher, response = world.get_acts()\n",
    "        print(\"Response: \", response.keys())\n",
    "        print(\"Top Docs: \", response[\"top_docs\"])\n",
    "        print(\"Search Query: \", response[\"search_queries\"])\n",
    "        if world_logger is not None:\n",
    "            world_logger.log(world)\n",
    "        if opt.get('display_examples'):\n",
    "            print(\"---\")\n",
    "            print(world.display())"
   ]
  },
  {
   "cell_type": "code",
   "execution_count": null,
   "id": "2ecac37f",
   "metadata": {},
   "outputs": [],
   "source": [
    "# hello. ehee\n",
    "# [BlenderBot2Fid]: Hi, I'm modi, my name is samantha. Do you have a favorite food?\n",
    "# Response:  dict_keys(['id', 'episode_done', 'text', 'beam_texts', 'metrics'])\n",
    "\n",
    "# ---------------------------------------------------------------------------\n",
    "# KeyError                                  Traceback (most recent call last)\n",
    "# /tmp/ipykernel_10880/3244370661.py in <module>\n",
    "#      10         teacher, response = world.get_acts()\n",
    "#      11         print(\"Response: \", response.keys())\n",
    "# ---> 12         print(\"Top Docs: \", response[\"top_docs\"])\n",
    "#      13         print(\"Search Query: \", response[\"search_queries\"])\n",
    "#      14         if world_logger is not None:\n",
    "\n",
    "# KeyError: 'top_docs'\n",
    "\n"
   ]
  },
  {
   "cell_type": "code",
   "execution_count": 33,
   "id": "23689680",
   "metadata": {},
   "outputs": [
    {
     "data": {
      "text/plain": [
       "'pythagoros theorem'"
      ]
     },
     "execution_count": 33,
     "metadata": {},
     "output_type": "execute_result"
    }
   ],
   "source": [
    "response.get(\"search_queries\", \"No response\")"
   ]
  },
  {
   "cell_type": "code",
   "execution_count": 15,
   "id": "ce291fd0",
   "metadata": {},
   "outputs": [
    {
     "data": {
      "text/plain": [
       "[{'id': 'localHuman',\n",
       "  'episode_done': False,\n",
       "  'label_candidates': None,\n",
       "  'text': 'yes'},\n",
       " {'id': 'TransformerGenerator',\n",
       "  'episode_done': False,\n",
       "  'text': \"It was invented in England in the late 19th century. It's been around a long time.\",\n",
       "  'beam_texts': [(\"It was invented in England in the late 19th century. It's been around a long time.\",\n",
       "    -7.87917947769165),\n",
       "   (\"It was invented in England in the early 19th century. It's been around a long time.\",\n",
       "    -7.9205827713012695),\n",
       "   ('It was invented in England in the late 19th century. It has been around for a long time.',\n",
       "    -7.954632759094238),\n",
       "   ('It was invented in England in the late 19th century. It has been around a long time.',\n",
       "    -7.957061290740967),\n",
       "   ('It was invented in England in the early 19th century. It has been around a long time.',\n",
       "    -7.997570037841797),\n",
       "   ('It was invented in England in the early 19th century. It has been around for a long time.',\n",
       "    -8.006776809692383),\n",
       "   (\"It was invented in England in the late 19th century. It's been around for a while.\",\n",
       "    -8.0497407913208),\n",
       "   (\"It was invented in England in the late 19th century. It's been around a long time!\",\n",
       "    -8.055932998657227),\n",
       "   (\"It was invented in England in the early 19th century. It's been around a long time!\",\n",
       "    -8.090737342834473),\n",
       "   (\"It was invented in England in the early 19th century. It's been around for a while.\",\n",
       "    -8.104491233825684)],\n",
       "  'metrics': {'clen': AverageMetric(34),\n",
       "   'ctrunc': AverageMetric(0),\n",
       "   'ctrunclen': AverageMetric(0)}}]"
      ]
     },
     "execution_count": 15,
     "metadata": {},
     "output_type": "execute_result"
    }
   ],
   "source": [
    "world.get_acts()"
   ]
  },
  {
   "cell_type": "code",
   "execution_count": null,
   "id": "daa4d8da",
   "metadata": {},
   "outputs": [],
   "source": []
  },
  {
   "cell_type": "code",
   "execution_count": null,
   "id": "009d6b3e",
   "metadata": {},
   "outputs": [],
   "source": []
  },
  {
   "cell_type": "code",
   "execution_count": null,
   "id": "9700677e",
   "metadata": {},
   "outputs": [],
   "source": []
  },
  {
   "cell_type": "code",
   "execution_count": 16,
   "id": "79dfdcaf",
   "metadata": {},
   "outputs": [
    {
     "data": {
      "text/plain": [
       "'blended_skill_talk'"
      ]
     },
     "execution_count": 16,
     "metadata": {},
     "output_type": "execute_result"
    }
   ],
   "source": [
    "opt['task']"
   ]
  },
  {
   "cell_type": "code",
   "execution_count": 7,
   "id": "daff8ce3",
   "metadata": {},
   "outputs": [
    {
     "data": {
      "text/plain": [
       "False"
      ]
     },
     "execution_count": 7,
     "metadata": {},
     "output_type": "execute_result"
    }
   ],
   "source": [
    "world.epoch_done()"
   ]
  },
  {
   "cell_type": "code",
   "execution_count": 15,
   "id": "302c23a1",
   "metadata": {},
   "outputs": [
    {
     "data": {
      "text/plain": [
       "[{'text': 'HEY HOW ARE YOU',\n",
       "  'episode_done': True,\n",
       "  'id': '../test.json',\n",
       "  'eval_labels': ['HEY HOW ARE YOU']},\n",
       " {'id': 'localHuman',\n",
       "  'episode_done': False,\n",
       "  'label_candidates': None,\n",
       "  'text': 'How are you?',\n",
       "  'metrics': {'exs': SumMetric(1),\n",
       "   'accuracy': ExactMatchMetric(0),\n",
       "   'f1': F1Metric(0.8571),\n",
       "   'bleu-4': BleuMetric(0.0007165)}},\n",
       " None]"
      ]
     },
     "execution_count": 15,
     "metadata": {},
     "output_type": "execute_result"
    }
   ],
   "source": [
    "world.get_acts()"
   ]
  },
  {
   "cell_type": "code",
   "execution_count": 8,
   "id": "41bb4672",
   "metadata": {},
   "outputs": [
    {
     "data": {
      "text/plain": [
       "''"
      ]
     },
     "execution_count": 8,
     "metadata": {},
     "output_type": "execute_result"
    }
   ],
   "source": [
    "world.display()"
   ]
  },
  {
   "cell_type": "code",
   "execution_count": 9,
   "id": "6b05327a",
   "metadata": {},
   "outputs": [
    {
     "data": {
      "text/plain": [
       "0"
      ]
     },
     "execution_count": 9,
     "metadata": {},
     "output_type": "execute_result"
    }
   ],
   "source": [
    "world.get_total_parleys()"
   ]
  },
  {
   "cell_type": "code",
   "execution_count": null,
   "id": "5f6eed75",
   "metadata": {},
   "outputs": [],
   "source": []
  },
  {
   "cell_type": "code",
   "execution_count": 1,
   "id": "22b7dac4",
   "metadata": {},
   "outputs": [],
   "source": [
    "##############\n",
    "# TEST PARLEY API ENDPOINT\n",
    "import requests as rq  \n",
    "PARLEY_API_ENDPOINT = \"https://parleyapi.ngrok.io/parley_text/\""
   ]
  },
  {
   "cell_type": "code",
   "execution_count": 2,
   "id": "9f21da94",
   "metadata": {},
   "outputs": [],
   "source": [
    "text = \"Hello How are you?\""
   ]
  },
  {
   "cell_type": "code",
   "execution_count": 5,
   "id": "3b134b81",
   "metadata": {},
   "outputs": [],
   "source": [
    "data = {\"Response\": text, \"model_persona\" : \"your persona: My name is modi.\",\n",
    "                    \"Restart\": \"False\"}"
   ]
  },
  {
   "cell_type": "code",
   "execution_count": 11,
   "id": "79d29bab",
   "metadata": {},
   "outputs": [],
   "source": [
    "r = rq.post(url = PARLEY_API_ENDPOINT, data = data)"
   ]
  },
  {
   "cell_type": "code",
   "execution_count": 12,
   "id": "7fd637e9",
   "metadata": {},
   "outputs": [
    {
     "data": {
      "text/plain": [
       "<Response [200]>"
      ]
     },
     "execution_count": 12,
     "metadata": {},
     "output_type": "execute_result"
    }
   ],
   "source": [
    "r"
   ]
  },
  {
   "cell_type": "code",
   "execution_count": null,
   "id": "60875de1",
   "metadata": {},
   "outputs": [],
   "source": []
  }
 ],
 "metadata": {
  "kernelspec": {
   "display_name": "Python 3 (ipykernel)",
   "language": "python",
   "name": "python3"
  },
  "language_info": {
   "codemirror_mode": {
    "name": "ipython",
    "version": 3
   },
   "file_extension": ".py",
   "mimetype": "text/x-python",
   "name": "python",
   "nbconvert_exporter": "python",
   "pygments_lexer": "ipython3",
   "version": "3.9.5"
  }
 },
 "nbformat": 4,
 "nbformat_minor": 5
}
